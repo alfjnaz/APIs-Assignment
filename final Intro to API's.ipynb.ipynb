{
 "cells": [
  {
   "cell_type": "markdown",
   "id": "7196054f",
   "metadata": {},
   "source": [
    "# Working with APIs"
   ]
  },
  {
   "cell_type": "markdown",
   "id": "0547b71e",
   "metadata": {},
   "source": [
    "API stands for Application programming interface<br>\n",
    "APIs are a way for applications to talk to eachother<br>\n",
    "In python we use the requests package to handle the connection<br>\n",
    "<small><strong>Note: It is requests with an s not request(this is a different package)</strong></small><br>\n",
    "Most API's communicate with data in the form of JSON<br>\n",
    "JSON stands for JavaScript Object Notation"
   ]
  },
  {
   "cell_type": "code",
   "execution_count": 3,
   "id": "4db9d154",
   "metadata": {},
   "outputs": [],
   "source": [
    "#import the packages we need:\n",
    "import requests, json"
   ]
  },
  {
   "cell_type": "markdown",
   "id": "e8c2ce51",
   "metadata": {},
   "source": [
    "We will be connecting to the Ergast F1 Racer API today:\n",
    "http://ergast.com/mrd/\n",
    "\n",
    "to view JSON data nicely in the Chrome browser install the extension JSONview"
   ]
  },
  {
   "cell_type": "code",
   "execution_count": 4,
   "id": "52c440c6",
   "metadata": {},
   "outputs": [],
   "source": [
    "# help(requests)"
   ]
  },
  {
   "cell_type": "code",
   "execution_count": 5,
   "id": "f60c1b4a",
   "metadata": {},
   "outputs": [],
   "source": [
    "url = 'http://ergast.com/api/f1/2008/5/driverStandings.json'"
   ]
  },
  {
   "cell_type": "code",
   "execution_count": 2,
   "id": "7b63a204",
   "metadata": {},
   "outputs": [],
   "source": [
    "#response object\n"
   ]
  },
  {
   "cell_type": "code",
   "execution_count": 1,
   "id": "c6d1fdaf",
   "metadata": {},
   "outputs": [],
   "source": [
    "#check and make sure we got a successful response from the API\n"
   ]
  },
  {
   "cell_type": "code",
   "execution_count": 3,
   "id": "ed4d3256",
   "metadata": {},
   "outputs": [],
   "source": [
    "#view the response as a JSON\n"
   ]
  },
  {
   "cell_type": "code",
   "execution_count": null,
   "id": "92e6cd2c",
   "metadata": {},
   "outputs": [],
   "source": []
  },
  {
   "cell_type": "code",
   "execution_count": 4,
   "id": "f074dfcf",
   "metadata": {},
   "outputs": [],
   "source": [
    "# We only want the Driver Standings\n"
   ]
  },
  {
   "cell_type": "code",
   "execution_count": null,
   "id": "be46a950",
   "metadata": {},
   "outputs": [],
   "source": []
  },
  {
   "cell_type": "code",
   "execution_count": null,
   "id": "3740c752",
   "metadata": {},
   "outputs": [],
   "source": []
  },
  {
   "cell_type": "markdown",
   "id": "6d546014",
   "metadata": {},
   "source": [
    "# <strong>Homework</strong>\n",
    "Retrieve a list of Pokemon's name, abilities, types, and weight from the PokeAPI\n",
    " https://pokeapi.co/\n",
    "\n",
    "Make 20 Pokemon\n",
    "\n",
    "Whenever you need to create a POKEMON, you need to construct your Pokemon through data from the API: https://pokeapi.co/\n",
    "\n",
    "Below is an example of how your Pokemon should be categorized by Type.\n",
    "Create a dictionary\n",
    "{\n",
    "<strong>'Fire'</strong>: {\n",
    "'charizard': {\n",
    "'abilities': [],\n",
    "'weight': ,\n",
    "},\n",
    "'ninetales': {\n",
    "'abilities': [],\n",
    "'weight': ,\n",
    "}\n",
    "},\n",
    "<strong>'Flying'</strong>:,\n",
    "<strong>'Water'</strong>:\n",
    "}\n",
    "\n",
    "Remember, it may be easier to write functions to do your dirty work, and then call them to execute each topic, rather than trying to write a monstrous spaghetti-script that does it all at once; it also might be very good to plan how you'll go about this and what functions you might use before you write 500 lines of code that confuse and befuddle all who lay eyes upon it. Including yourself. An immense portion of good coding is just planning.\n",
    "\n",
    "When you're done, create a GitHub repository for your assignment and save the repository link as the assignment."
   ]
  },
  {
   "cell_type": "code",
   "execution_count": 5,
   "id": "5a9081e3",
   "metadata": {},
   "outputs": [
    {
     "name": "stdout",
     "output_type": "stream",
     "text": [
      "grass:\n",
      "  bulbasaur:\n",
      "    abilities: ['overgrow', 'chlorophyll']\n",
      "    weight: 69\n",
      "  ivysaur:\n",
      "    abilities: ['overgrow', 'chlorophyll']\n",
      "    weight: 130\n",
      "  venusaur:\n",
      "    abilities: ['overgrow', 'chlorophyll']\n",
      "    weight: 1000\n",
      "poison:\n",
      "  bulbasaur:\n",
      "    abilities: ['overgrow', 'chlorophyll']\n",
      "    weight: 69\n",
      "  ivysaur:\n",
      "    abilities: ['overgrow', 'chlorophyll']\n",
      "    weight: 130\n",
      "  venusaur:\n",
      "    abilities: ['overgrow', 'chlorophyll']\n",
      "    weight: 1000\n",
      "  weedle:\n",
      "    abilities: ['shield-dust', 'run-away']\n",
      "    weight: 32\n",
      "  kakuna:\n",
      "    abilities: ['shed-skin']\n",
      "    weight: 100\n",
      "  beedrill:\n",
      "    abilities: ['swarm', 'sniper']\n",
      "    weight: 295\n",
      "fire:\n",
      "  charmander:\n",
      "    abilities: ['blaze', 'solar-power']\n",
      "    weight: 85\n",
      "  charmeleon:\n",
      "    abilities: ['blaze', 'solar-power']\n",
      "    weight: 190\n",
      "  charizard:\n",
      "    abilities: ['blaze', 'solar-power']\n",
      "    weight: 905\n",
      "flying:\n",
      "  charizard:\n",
      "    abilities: ['blaze', 'solar-power']\n",
      "    weight: 905\n",
      "  butterfree:\n",
      "    abilities: ['compound-eyes', 'tinted-lens']\n",
      "    weight: 320\n",
      "  pidgey:\n",
      "    abilities: ['keen-eye', 'tangled-feet', 'big-pecks']\n",
      "    weight: 18\n",
      "  pidgeotto:\n",
      "    abilities: ['keen-eye', 'tangled-feet', 'big-pecks']\n",
      "    weight: 300\n",
      "  pidgeot:\n",
      "    abilities: ['keen-eye', 'tangled-feet', 'big-pecks']\n",
      "    weight: 395\n",
      "water:\n",
      "  squirtle:\n",
      "    abilities: ['torrent', 'rain-dish']\n",
      "    weight: 90\n",
      "  wartortle:\n",
      "    abilities: ['torrent', 'rain-dish']\n",
      "    weight: 225\n",
      "  blastoise:\n",
      "    abilities: ['torrent', 'rain-dish']\n",
      "    weight: 855\n",
      "bug:\n",
      "  caterpie:\n",
      "    abilities: ['shield-dust', 'run-away']\n",
      "    weight: 29\n",
      "  metapod:\n",
      "    abilities: ['shed-skin']\n",
      "    weight: 99\n",
      "  butterfree:\n",
      "    abilities: ['compound-eyes', 'tinted-lens']\n",
      "    weight: 320\n",
      "  weedle:\n",
      "    abilities: ['shield-dust', 'run-away']\n",
      "    weight: 32\n",
      "  kakuna:\n",
      "    abilities: ['shed-skin']\n",
      "    weight: 100\n",
      "  beedrill:\n",
      "    abilities: ['swarm', 'sniper']\n",
      "    weight: 295\n",
      "normal:\n",
      "  pidgey:\n",
      "    abilities: ['keen-eye', 'tangled-feet', 'big-pecks']\n",
      "    weight: 18\n",
      "  pidgeotto:\n",
      "    abilities: ['keen-eye', 'tangled-feet', 'big-pecks']\n",
      "    weight: 300\n",
      "  pidgeot:\n",
      "    abilities: ['keen-eye', 'tangled-feet', 'big-pecks']\n",
      "    weight: 395\n",
      "  rattata:\n",
      "    abilities: ['run-away', 'guts', 'hustle']\n",
      "    weight: 35\n",
      "  raticate:\n",
      "    abilities: ['run-away', 'guts', 'hustle']\n",
      "    weight: 185\n"
     ]
    }
   ],
   "source": [
    "import requests\n",
    "pokemon_dict = {}\n",
    "for i in range(1, 21):\n",
    "    response = requests.get(f\"https://pokeapi.co/api/v2/pokemon/{i}\")\n",
    "    data = response.json()\n",
    "    name = data['name']\n",
    "    abilities = [ability['ability']['name'] for ability in data['abilities']]\n",
    "    types = [type_['type']['name'] for type_ in data['types']]\n",
    "    weight = data['weight']\n",
    "    for type_ in types:\n",
    "        if type_ not in pokemon_dict:\n",
    "            pokemon_dict[type_] = {}\n",
    "        pokemon_dict[type_][name] = {\n",
    "            'abilities': abilities,\n",
    "            'weight': weight,\n",
    "        }\n",
    "for type_, pokemons in pokemon_dict.items():\n",
    "    print(f\"{type_}:\")\n",
    "    for name, data in pokemons.items():\n",
    "        print(f\"  {name}:\")\n",
    "        print(f\"    abilities: {data['abilities']}\")\n",
    "        print(f\"    weight: {data['weight']}\")\n"
   ]
  }
 ],
 "metadata": {
  "kernelspec": {
   "display_name": "Python 3 (ipykernel)",
   "language": "python",
   "name": "python3"
  },
  "language_info": {
   "codemirror_mode": {
    "name": "ipython",
    "version": 3
   },
   "file_extension": ".py",
   "mimetype": "text/x-python",
   "name": "python",
   "nbconvert_exporter": "python",
   "pygments_lexer": "ipython3",
   "version": "3.9.13"
  }
 },
 "nbformat": 4,
 "nbformat_minor": 5
}
